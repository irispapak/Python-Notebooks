{
 "cells": [
  {
   "cell_type": "markdown",
   "metadata": {},
   "source": [
    "# General Information\n",
    "* Please do not copy and paste solutions from other people, I would hate to give you 0 points. \n",
    "* You need 100 points to get the best grade. The amount of points per exercise is marked behind them. The total adds up to a number larger than 100, so you do not have to get everything right for the best grade.\n",
    "* You must not turn this in later then Friday at midnight. After this you will not be able to upload the file and you will get 0 points. \n",
    "* Use comments. You do not have to comment every line. Just think about what comments your future self might find helpful.\n",
    "* If the Exercises uses the phrase \"a function\", the solution should also use a function.\n",
    "* You will only get points for a exercise if it does what the text tells you to. It does not matter how you accomplish it. Make sure to read the instructions carefully. However, you will get minus points if the code is badly structured and/or comments are missing or very useless.\n",
    "* Please upload your solution in the form of this notebook in the format lastname_firstname_homework.ipynb\n",
    "* If an exercise is unclear or you find any mistakes, please contact me."
   ]
  },
  {
   "cell_type": "markdown",
   "metadata": {
    "collapsed": true
   },
   "source": [
    "# Exercise 1 (5 Points)\n",
    "Write a program that prints your name."
   ]
  },
  {
   "cell_type": "code",
   "execution_count": 26,
   "metadata": {
    "scrolled": true
   },
   "outputs": [
    {
     "name": "stdout",
     "output_type": "stream",
     "text": [
      "What is your name?: Iris Papakonstantinou Presvelou\n",
      "My name is Iris Papakonstantinou Presvelou\n"
     ]
    }
   ],
   "source": [
    "name = input('What is your name?: ')\n",
    "print ('My name is', name)"
   ]
  },
  {
   "cell_type": "markdown",
   "metadata": {},
   "source": [
    "# Exercise 2 (10 Points)\n",
    "Write a program that prompts the user for input. If the input is below 0 it should print: \"A bit negative today aren't we?\". Otherwise the message should be: \"Yeah, positive vibes!\"."
   ]
  },
  {
   "cell_type": "code",
   "execution_count": 28,
   "metadata": {
    "scrolled": true
   },
   "outputs": [
    {
     "name": "stdout",
     "output_type": "stream",
     "text": [
      "Give me a number: 2\n",
      "Yeah, positive vibes!\n"
     ]
    }
   ],
   "source": [
    "num = float(input('Give me a number: '))\n",
    "\n",
    "# checks if the number is positive or not\n",
    "if num < 0:\n",
    "    print('A bit negative today aren\\'t we?')\n",
    "else:\n",
    "    print('Yeah, positive vibes!')\n",
    "\n",
    "        "
   ]
  },
  {
   "cell_type": "markdown",
   "metadata": {},
   "source": [
    "# Exercise 3 (15 Points)\n",
    "Write a function that produces a random integer between 1 and 50. Check if the number is divisible by three without a remainder. If this has been the case five times the function should stop and return the largest of the five numbers that has been divisible by three. On every iteration the program should print the number it randomly created. "
   ]
  },
  {
   "cell_type": "code",
   "execution_count": 30,
   "metadata": {
    "scrolled": true
   },
   "outputs": [
    {
     "name": "stdout",
     "output_type": "stream",
     "text": [
      "Random Number 1 : 4\n",
      "Random Number 2 : 10\n",
      "Random Number 3 : 24\n",
      "Random Number 4 : 28\n",
      "Random Number 5 : 1\n",
      "Random Number 6 : 23\n",
      "Random Number 7 : 22\n",
      "Random Number 8 : 39\n",
      "Random Number 9 : 40\n",
      "Random Number 10 : 40\n",
      "Random Number 11 : 24\n",
      "Random Number 12 : 48\n",
      "Random Number 13 : 42\n",
      "The largest number of the 5 numbers that are divisible by 3 is: 48\n"
     ]
    }
   ],
   "source": [
    "# +++++++++++++++++++++++++++++++++++++++++++++++++++++++++\n",
    "# function\n",
    "\n",
    "def divisible_by_3():\n",
    "\n",
    "    \"\"\"This is a function that generates random numbers, it prints them every time and checks if the number is divisible\n",
    "    by 3. When it finds 5 numbers that satisfy the condition, then it prints the largest of the 5.\"\"\"\n",
    "\n",
    "    import random\n",
    "    \n",
    "    total = 0\n",
    "    max = 0\n",
    "    i = 1\n",
    "    # stops when the total numbers that are divisible by 3, are 5\n",
    "    while total < 5:\n",
    "        number = random.randint(1,50)\n",
    "        print('Random Number', i, ':', number)\n",
    "        # checks if the number is divisible by 3 without a remainder\n",
    "        if number % 3 == 0:\n",
    "            total += 1\n",
    "            if number > max:\n",
    "                max = number\n",
    "        i += 1\n",
    "                \n",
    "    return max\n",
    "    \n",
    "# ++++++++++++++++++++++++++++++++++++++++++++++++++++++++++++\n",
    "# main program\n",
    "\n",
    "print('The largest number of the 5 numbers that are divisible by 3 is:', divisible_by_3())\n"
   ]
  },
  {
   "cell_type": "markdown",
   "metadata": {},
   "source": [
    "# Exercise 4 (20 Points)\n",
    "Write a function that takes two lists and checks if they have the same length. If this is not the case the function should raise a ValueError (together with a meaningful error message). If they have the same length the function should create a dictionary, using the first list for keys and the second list for values. This should happen in a try except statement, for the case the first list contains mutable types (which should not be used for keys). Finally, the function should return the dictionary.\n",
    "\n",
    "Hint: The zip keyword might be helpful here."
   ]
  },
  {
   "cell_type": "code",
   "execution_count": 35,
   "metadata": {
    "scrolled": true
   },
   "outputs": [
    {
     "name": "stdout",
     "output_type": "stream",
     "text": [
      "The dictionary created is: {1: 2, 2: 3, 3: 4, 4: 5, 5: 6}\n"
     ]
    }
   ],
   "source": [
    "# +++++++++++++++++++++++++++++++++++++++++++++++++++++++++\n",
    "# function\n",
    "\n",
    "def dictionary_from_lists(list1, list2):\n",
    "\n",
    "    \"\"\"This is a function that checks if 2 lists have the same size and then it creates a dictionary with the elements \n",
    "    of the first as keys and the elements of the second as values. If the list contains one or more mutable items then\n",
    "    it prints a ValueError and a message\"\"\"\n",
    "    \n",
    "    # checks if the lists have the same length \n",
    "    if len(list1) == len(list2):\n",
    "        try:\n",
    "            dict = {}\n",
    "            # it creates the dictionary with keys from the first list and values from the second list\n",
    "            for i in range(len(list1)):\n",
    "                dict[list1[i]] = list2[i]          \n",
    "            print('The dictionary created is:',dict)\n",
    "        except TypeError: # if the list contains mutable elements\n",
    "            print('There is one or more mutable objects in the first list!')\n",
    "    else:\n",
    "        raise ValueError ('The lists haven\\'t the same length')\n",
    "\n",
    "    \n",
    "\n",
    "# ++++++++++++++++++++++++++++++++++++++++++++++++++++++++++\n",
    "# main program\n",
    "\n",
    "#list1 = [1]\n",
    "list1 = [1, 2, 3, 4, 5]  # list with immutable elements\n",
    "#list1 = [[1,2], 2, 3, 4, 5] # list with a mutable element (list)\n",
    "list2 = [2, 3, 4, 5, 6]\n",
    "dictionary_from_lists(list1, list2)\n"
   ]
  },
  {
   "cell_type": "markdown",
   "metadata": {},
   "source": [
    "# Exercise 5 (25 Points)\n",
    "The following exercise uses recursion. A bit of a mindbending concept, which is based on functions calling themselve. For example:"
   ]
  },
  {
   "cell_type": "code",
   "execution_count": 20,
   "metadata": {
    "scrolled": true
   },
   "outputs": [
    {
     "name": "stdout",
     "output_type": "stream",
     "text": [
      "1\n",
      "2\n",
      "3\n",
      "4\n",
      "5\n",
      "6\n",
      "7\n",
      "8\n",
      "9\n",
      "10\n"
     ]
    }
   ],
   "source": [
    "def recursion(n):\n",
    "    print(n)\n",
    "    if n < 10:\n",
    "        recursion(n + 1)\n",
    "recursion(1)"
   ]
  },
  {
   "cell_type": "markdown",
   "metadata": {},
   "source": [
    "Recursion is helpful when you want to do something, but you do not know beforehand how often you want to do it. With this knowledge let us try to tackle the following exercise:\n",
    "\n",
    "A palindrome is the same word backwards and forwards, for example \"noon\" or \"Anna\". A palindrome can be defined recursively:\n",
    "\n",
    "A word is a palindrome if the first and last letters are the same and the middle is a palindrome. Built a program that checks if a word is palindrome in a recursive way. The following functions might be helpful:"
   ]
  },
  {
   "cell_type": "code",
   "execution_count": 24,
   "metadata": {
    "scrolled": true
   },
   "outputs": [
    {
     "name": "stdout",
     "output_type": "stream",
     "text": [
      "Give me a word: noon\n",
      "It is a palindrome!\n"
     ]
    }
   ],
   "source": [
    "# +++++++++++++++++++++++++++++++++++++++++++++++++++++++++++++++++++++++++++++++++++\n",
    "# functions\n",
    "\n",
    "def first(word):\n",
    "    \"\"\" A function that returns the first letter of a word\"\"\"\n",
    "    return word[0]\n",
    "# ---------------------------------------------------------------\n",
    "def last(word):\n",
    "    \"\"\" A function that returns the last letter of a word\"\"\"\n",
    "    return word[-1]\n",
    "# ---------------------------------------------------------------\n",
    "def middle(word):\n",
    "    \"\"\" A function that returns the middle letters of a word\"\"\"\n",
    "    return word[1:-1]\n",
    "#----------------------------------------------------------------\n",
    "def recursion(word, a):\n",
    "    \"\"\" A function that finds if a word is a palindrome!\"\"\"\n",
    "    \n",
    "    # checks if it is the first time (a = False), or if the word has more than one letters\n",
    "    if len(word) > 1 or a == False:\n",
    "        # calls the functions that return first, last, and middle letters respectively\n",
    "        first_letter = first(word)\n",
    "        last_letter = last(word)\n",
    "        middle_word = middle(word)\n",
    "    \n",
    "        # checks if the first letter is equal to the last\n",
    "        if first_letter == last_letter:\n",
    "            a = True\n",
    "            # it excludes the first and last letters and keeps the middle, forming a new word\n",
    "            new_word = middle_word\n",
    "            # calls again itself in order to do the same thing, using as word the new word\n",
    "            recursion(new_word, a)\n",
    "           \n",
    "        else:\n",
    "            a = False\n",
    "\n",
    "    # it returns True if the word is a palindrome and False if it isn't\n",
    "    return a\n",
    "\n",
    "# +++++++++++++++++++++++++++++++++++++++++++++++++++++++++++++++++++++++++++++++++++\n",
    "# main program\n",
    "\n",
    "word = input('Give me a word: ')\n",
    "a = False\n",
    "a = recursion(word, a)\n",
    "\n",
    "if a == True :\n",
    "    print('It is a palindrome!')\n",
    "elif a == False:\n",
    "    print('It is not a palindrome')\n",
    "        "
   ]
  },
  {
   "cell_type": "markdown",
   "metadata": {},
   "source": [
    "Hint: It might be helpful to watch a video or find a text where recursion is explained. For example the book ThinkPython uses recursion several times.\n",
    "\n",
    "Hint: This exercise is probably the hardest, but if you were able to solve all the other exercises you do not have to worry. You only need it if you want to get the very best grade."
   ]
  },
  {
   "cell_type": "markdown",
   "metadata": {},
   "source": [
    "# Exercise 6 (15 Points)\n",
    "Write a function that calculates the cumulative sum of a list and returns the result. The function should be able to handle list with entries that are not numbers and not just crash in this case. "
   ]
  },
  {
   "cell_type": "code",
   "execution_count": 39,
   "metadata": {
    "scrolled": true
   },
   "outputs": [
    {
     "name": "stdout",
     "output_type": "stream",
     "text": [
      "There are some elements that are not numbers! I will calculate the sum of the elements that are numbers.\n",
      "The cumulative sum of the list is:  30\n"
     ]
    }
   ],
   "source": [
    "# +++++++++++++++++++++++++++++++++++++++++++++++++\n",
    "# function\n",
    "\n",
    "def cumulative_sum(list1):\n",
    "\n",
    "    \"\"\" This function calculates the sum of the elements of one list. If one or more elements aren't numbers, it\n",
    "    calculates the sum of the rest.\"\"\"\n",
    "    \n",
    "    list2 = []\n",
    "    try: \n",
    "        sum1 = sum(list1)\n",
    "        \n",
    "    except TypeError:\n",
    "        print('There are some elements that are not numbers! I will calculate the sum of the elements that are numbers.')\n",
    "        # it finds the elements that aren't numbers and exclude them from the sum\n",
    "        for i in range(len(list1)):\n",
    "            if type(list1[i]) != str:\n",
    "                list2.append(list1[i])\n",
    "                \n",
    "        # it calculates the sum of the elements that are numbers!\n",
    "        sum1 = sum(list2)\n",
    "        \n",
    "    return sum1\n",
    "\n",
    "# ++++++++++++++++++++++++++++++++++++++++++++++++++\n",
    "# main program\n",
    "\n",
    "a = [2, 4, 6, 7, 'a', '!' , 11]\n",
    "#a = [1, 2, 3]\n",
    "print('The cumulative sum of the list is: ', cumulative_sum(a))\n"
   ]
  },
  {
   "cell_type": "markdown",
   "metadata": {},
   "source": [
    "# Exercise 7 (15 Points)\n",
    "Imagine a two-dimensional coordinate system. When you create a point in this coordinate system it has an absolute distance from the point (0,0). Write a function that takes a point and calculates its distance from (0,0) and return it. The function should make sure that the passed argument is a tuple of length two, otherwise it should raise a value error with a meaningful error message. "
   ]
  },
  {
   "cell_type": "code",
   "execution_count": 44,
   "metadata": {
    "scrolled": true
   },
   "outputs": [
    {
     "name": "stdout",
     "output_type": "stream",
     "text": [
      "Give the coordinates of a point in a two dimensional space:\n",
      "Give me the x coordinate: 2\n",
      "Give me the y coordinate: 2\n",
      "The distance of this point from (0,0) is : 2.8284271247461903\n"
     ]
    }
   ],
   "source": [
    "# ++++++++++++++++++++++++++++++++++++++++++++++++++\n",
    "# function\n",
    "\n",
    "def distance(coor):\n",
    "    \n",
    "    \"\"\" This is a function that takes the coordinates of a point in the two dimensional space and returns \n",
    "    its distance drom (0,0). If the coordinates are not in the form of tuple, then it raises a ValueError \"\"\"\n",
    "    \n",
    "    import math\n",
    "\n",
    "    if type(coor) == tuple and len(coor) == 2:\n",
    "        dist = math.sqrt(coor[0]**2 + coor[1]**2)\n",
    "    else:\n",
    "        raise ValueError ('This is not a tuple or its length is not two!')\n",
    "\n",
    "    return dist\n",
    "\n",
    "\n",
    "# ++++++++++++++++++++++++++++++++++\n",
    "# main program\n",
    "\n",
    "print('Give the coordinates of a point in a two dimensional space:')\n",
    "x = float(input('Give me the x coordinate: '))\n",
    "y = float(input('Give me the y coordinate: '))\n",
    "\n",
    "#coor = [x, y] # list\n",
    "coor = (x, y) # tuple\n",
    "#coor = (x, y, 1)\n",
    "print('The distance of this point from (0,0) is :', distance(coor))\n"
   ]
  },
  {
   "cell_type": "markdown",
   "metadata": {},
   "source": [
    "# Exercise 8 (10 Points)\n",
    "Write a program that prints the amount of hours you have needed for this graded homework. Make a complete sentence and use str.format(). "
   ]
  },
  {
   "cell_type": "code",
   "execution_count": 1,
   "metadata": {
    "scrolled": true
   },
   "outputs": [
    {
     "name": "stdout",
     "output_type": "stream",
     "text": [
      "How many hours did you need to complete your homework? 5.5\n",
      "I needed 5.5 hours to complete my homework. \n"
     ]
    }
   ],
   "source": [
    "# main program\n",
    "\n",
    "hours = float(input('How many hours did you need to complete your homework? '))\n",
    "print ('I needed {} hours to complete my homework. '.format(hours))\n"
   ]
  },
  {
   "cell_type": "code",
   "execution_count": null,
   "metadata": {},
   "outputs": [],
   "source": []
  }
 ],
 "metadata": {
  "kernelspec": {
   "display_name": "Python 3",
   "language": "python",
   "name": "python3"
  },
  "language_info": {
   "codemirror_mode": {
    "name": "ipython",
    "version": 3
   },
   "file_extension": ".py",
   "mimetype": "text/x-python",
   "name": "python",
   "nbconvert_exporter": "python",
   "pygments_lexer": "ipython3",
   "version": "3.6.5"
  }
 },
 "nbformat": 4,
 "nbformat_minor": 2
}
